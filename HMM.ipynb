{
  "nbformat": 4,
  "nbformat_minor": 0,
  "metadata": {
    "colab": {
      "name": "HMM.ipynb",
      "version": "0.3.2",
      "provenance": []
    },
    "kernelspec": {
      "name": "python3",
      "display_name": "Python 3"
    }
  },
  "cells": [
    {
      "cell_type": "markdown",
      "metadata": {
        "id": "nrNk67sAM3Di",
        "colab_type": "text"
      },
      "source": [
        " Our update step consists of the following:  \n",
        "\n",
        "\n",
        "$$\n",
        "\\sum_{x_t}a_t(x_t)p(x_{t+1}|x_t)p(z_{t+1}|x_{t+1})\n",
        "$$\n",
        "Where $a_t(x_t)$ = recursive step; $p(x_{t+1}|x_t)$ = transition step;  $p(z_{t+1}|x_{t+1})$ = observation step\n",
        "\n",
        "For the observation step, with a single value $z_{t+1}$ this would normally just be an index into our observation model. \n",
        "\n",
        "For example if the observation model gives us : $$ P(Z_t=z | X_t = x)  = \\begin{bmatrix} \n",
        "0.3 & 0.4 & 0.3 \\\\\n",
        "0.2 & 0.3 & 0.5 \\\\\n",
        "0.3 & 0.4 & 0.3 \n",
        "\\end{bmatrix}\n",
        "\\quad$$at index z,x\n",
        "\n",
        "\n",
        "\n",
        "So if $z_t = 1, x_t=2$, and  $ P(z_t=1| x_t = 2) = 0.5 $\n",
        "\n",
        "If instead $z_t$ is a multi-dimensional vector representing the observed probability of each emotional state. We could then represent  $ P(z_t| x_t)  $ as weighted combination of each possible state given by:\n",
        "$$\n",
        "\\sum_z Z_{t,z}*P(Z_t=z | X_t = x)\n",
        "$$\n",
        "which is equivlent to taking the dot product of $ Z_t$ and  $P(Z_t=z | X_t = x)$\n",
        "\n",
        "\n",
        "For example if our observation returned score of $$z_t = [0.3,0.4,0.3]$$ we would get: \n",
        "$$ P(z_t| x_t = 2) = (0.1)(0.3) + (0.8)(0.4) + (0.1)(0.3) =  0.38$$  \n",
        "This would be a much more accurate representation of the unconfident observation. \n",
        "\n"
      ]
    }
  ]
}
